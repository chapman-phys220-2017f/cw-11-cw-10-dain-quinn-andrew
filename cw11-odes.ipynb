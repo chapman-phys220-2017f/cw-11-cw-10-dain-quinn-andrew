{
 "cells": [
  {
   "cell_type": "markdown",
   "metadata": {
    "collapsed": false
   },
   "source": [
    "# Classwork 11\n",
    "### Ordinary Differential Equasions\n",
    "Quinn Gates"
   ]
  },
  {
   "cell_type": "markdown",
   "metadata": {
    "collapsed": false
   },
   "source": [
    "Consider a first-order ordinary differential equation (ODE) $$u'(t) = f[t, u(t)]$$ For concrete examples, consider $u'(t) = 2 u(t)$, or $u'(t) = 2t^2u(t)$. Such an equation states that the function $f[t, u(t)]$ is the slope of $u(t)$ at the domain point $t$; to calculate this slope, one generally needs to know both the range value $u(t)$ as well as the domain point $t$. The usual task of solving such a differential equation is to start from an \"initial condition\" $u(t_0) = u_0$ and reconstruct what the entire function $u(t)$ must be for $t>t_0$. There are analytical methods for cleverly reconstructing such a solution (e.g., solving $u'(t) = 2u(t)$ yields $u(t) = u_0 \\exp(2 t)$), but we are interesting here in how to numerically obtain a solution.\n",
    "\n",
    "To construct a solution, we construct a discrete mesh of domain points $(t_0, t_1, t_2, ..., t_N)$ with uniform spacing $\\Delta t = t_{k+1} - t_k$. Starting from the initial condition $u(t_0) = u_0$, we then iteratively construct a sequence of matching range points $(u_0, u_1, u_2, ..., u_N)$, where $u_k = u(t_k)$, by using the slopes $u'(t_k)$ at each domain point. This procedure is tricky for two reasons: (1) computing the slopes $u'(t_k)$ generally requires knowledge of the function $u(t_k)$ that one is trying to reconstruct, leading to a chicken-and-egg problem; (2) the first-derivative $u'(t_k)$ can only produce a linear approximations to $u(t)$ around the point $t_k$, so will only approximate $u(t)$ if $\\Delta t$ is sufficiently small. To be more explicit about this latter reason, consider the Taylor expansion of $u(t)$ around a particular point $t_k$: $$u(t_k + s) = u(t_k) + u'(t_k)s + u''(t_k)s^2/2 + u'''(t_k)s^3/3! + ...$$ Generally one will need to know all higher-order derivatives of $u(t)$ at $t=t_k$ to reconstruct the function at the point $t_k + s$. However, if $s=\\Delta t$ is small, then one can approximate $(\\Delta t)^2 \\approx 0$, yielding $u(t_k + \\Delta t) = u(t_k) + u'(t_k)\\Delta t$. Thus, if one knows the slope $u'(t_k) = f[t_k, u(t_k)]$, then one obtains $u_{k+1} = u_k + \\Delta t, f[t_k, u_k]$, which allows one to obtain the next range point $u_{k+1}$ given only knowledge of the current range point $u_k$. We say this method (called \"Euler's method\") for obtaining $u_{k+1}$ from $u_k$ is accurate to \"1st-order in $\\Delta t$\", since the error of this approximation scales as $(\\Delta t)^2$.\n",
    "\n",
    "This first-order method for obtaining the approximate sequence $(u_0, u_1, u_2, ..., u_N)$ of solution range points is not the only method. For example, consider the \"Leapfrog Method\" as an alternative. With this method, one starts from the point $t_k$, then looks both forward one point and backward one point. The Taylor expansion for each yields $u(t_k + \\Delta t) = u_{k+1} = u_k + u'(t_k)\\Delta t + u''(t_k)(\\Delta t)^2/2 + O(\\Delta t)^3$ and $u(t_k - \\Delta t) = u_{k-1} = u_k - u'(t_k)\\Delta t + u''(t_k)(\\Delta t)^2/2 + O(\\Delta t)^3$, where $O(\\Delta t)^3$ means terms of order $(\\Delta t)^3$. Note that the second-order terms have the same sign, while the first-order terms have opposite sign. This means that if we take the difference of these two expansions, we get the relation: $$u_{k+1} - u_{k-1} = 2u'(t_k)\\Delta t + O(\\Delta t)^3$$ That is, the second-order terms cancel entirely, leaving an expression that relates the next range point $u_{k+1}$ to the range point two steps back $u_{k-1}$ and the slope at the previous point $u'(t_k)$, with an error that scales as $(\\Delta t)^3$ (making the method accurate to \"second-order in $\\Delta t$\"). Since this method cancels out the second-order error terms, it will produce a more accurate approximation to the solution than Euler's method for finite mesh spacings $\\Delta t$.\n",
    "\n",
    "The goal of this assignment is to understand what these solution methods are doing graphically, as well as several more methods outlined below. To do this, for each of the following iterative solution methods, discuss together on the white board to understand how they work. Draw an arbitrary function $u(t)$ to start. Outline a (reasonably coarse) mesh of domain points $(t_0, t_1, t_2, ...)$ and find the initial value $u_0 = u(t_0)$ on the graph. Explain to each other graphically what each method is doing to construct the sequence of range points $(u_0, u_1, u_2, ...)$. When you have reached a good understanding graphically on the board, try to explain in words what the method is doing. With your group, write a notebook cw11-odes.ipynb that summarizes your conclusions in words and details what each method is doing. (No need to draw graphs in the notebook.)\n",
    "\n",
    "Euler's Method (accurate to 1st-order):\n",
    "\n",
    "$u_{k+1} = u_k + \\Delta t f[t_k, u_k]$\n",
    "\n",
    "Leapfrog (Midpoint) Method (accurate to 2nd-order):\n",
    "\n",
    "$u_{k+1} = u_{k-1} + 2\\Delta t f[t_k, u_k]$\n",
    "\n",
    "(How do you compute $u_1$?)\n",
    "\n",
    "Heun's (Trapezoid) Method (accurate to 2nd-order):\n",
    "\n",
    "$\\tilde{u}_{k+1} = u_k + \\Delta t f[t_k, u_k]$,\n",
    "\n",
    "$u_{k+1} = u_k + (\\Delta t/2)(f[t_k, u_k] + f[t_{k+1}, \\tilde{u}_{k+1}])$\n",
    "\n",
    "(Note the two steps - what is each doing?)\n",
    "\n",
    "2nd-order Runge-Kutta Method (accurate to 2nd-order):\n",
    "\n",
    "$u_{k+1} = u_k + K_2$,\n",
    "\n",
    "$K_1 = \\Delta t f[t_k, u_k]$,\n",
    "\n",
    "$K_2 = \\Delta t f[t_k + \\Delta t/2, u_k + K_1/2]$\n",
    "\n",
    "(How does this differ from Heun's method?)\n",
    "\n",
    "4th-order Runge-Kutta Method (accurate to 4th-order):\n",
    "\n",
    "$u_{k+1} = u_k + (K_1 + 2K_2 + 2K_3 + K_4)/6$,\n",
    "\n",
    "$K_1 = \\Delta tf[t_k,u_k]$,\n",
    "\n",
    "$K_2 = \\Delta t f[t_k + \\Delta t/2, u_k + K_1/2]$,\n",
    "\n",
    "$K_3 = \\Delta t f[t_k + \\Delta t/2, u_k + K_2/2]$,\n",
    "\n",
    "$K_4 = \\Delta tf[t_k + \\Delta t, u_k + K_3]$\n",
    "\n",
    "(Note that final increment is a weighted average of four different increments - what is each doing? Why do you suppose the middle increments are more heavily weighted?)\n",
    "\n",
    "In practice, the 4th-order Runge-Kutta method is the most popular method for solving ODEs numerically, since it nicely balances the accuracy per time step with the total number of required computations. It is usually more efficient to simply decrease the time step size rather than find methods of higher-order accuracy."
   ]
  },
  {
   "cell_type": "markdown",
   "metadata": {
    "collapsed": false
   },
   "source": [
    "Euler's Method (accurate to 1st-order):\n",
    "$u_{k+1} = u_k + \\Delta t, f[t_k, u_k]$ <br>\n",
    "Starting at a $u_{k_0}$, the method creates the next point, which is $\\Delta t$ away, by adding together the previous point and the slope of the line multiplied by the $\\Delta t$.  If $\\Delta t$ is small enough then the approximation should stay very close to the actual curve $u(t)$"
   ]
  },
  {
   "cell_type": "markdown",
   "metadata": {
    "collapsed": false
   },
   "source": [
    "Leapfrog (Midpoint) Method (accurate to 2nd-order):\n",
    "$u_{k+1} = u_{k-1} + 2\\Delta t f[t_k, u_k]$ <br>\n",
    "The point $u_{k+1}$ is created using the two previous points in this method.  The point $u_{k-1}$ is added to $2\\Delta t$ times the slope of $u$ at $t$.  This is more accurate because more points are being considered in the creation of the next point os a random spike in the slope will not totally throw the results. "
   ]
  },
  {
   "cell_type": "markdown",
   "metadata": {
    "collapsed": false
   },
   "source": [
    "Heun's (Trapezoid) Method (accurate to 2nd-order): <br>\n",
    "$\\tilde{u}_{k+1} = u_k + \\Delta t f[t_k, u_k]$,  <br>\n",
    "$u_{k+1} = u_k + (\\Delta t/2)(f[t_k, u_k] + f[t_{k+1}, \\tilde{u}_{k+1}])$ <br>\n",
    "The goal here is to use the average of the slopes of $u$ at $u_k$ and $u_{k+1}$.  It is very similar to leapfrog method, but here you are creating the point inbetween $u_k$ and $u_{k+1}$ instead of having it given to you. "
   ]
  },
  {
   "cell_type": "markdown",
   "metadata": {
    "collapsed": false
   },
   "source": [
    "2nd-order Runge-Kutta Method (accurate to 2nd-order): <br>\n",
    "$u_{k+1} = u_k + K_2$, <br>\n",
    "$K_1 = \\Delta t f[t_k, u_k]$, <br>\n",
    "$K_2 = \\Delta t f[t_k + \\Delta t/2, u_k + K_1/2]$ <br>\n",
    "This metod is very similar the Heun's method but differs very slightly.  $\\tilde{u}$ is the same thing as $K1$, but Runge-Kutta goes one more step. In Heun's method, the average of slopes was taken but in this method, it's not an average that is taken but a more accurate slope at the point $u_k$."
   ]
  },
  {
   "cell_type": "markdown",
   "metadata": {
    "collapsed": false
   },
   "source": [
    "4th-order Runge-Kutta Method (accurate to 4th-order): <br>\n",
    "$u_{k+1} = u_k + (K_1 + 2K_2 + 2K_3 + K_4)/6$,<br>\n",
    "$K_1 = \\Delta tf[t_k,u_k]$,<br>\n",
    "$K_2 = \\Delta t f[t_k + \\Delta t/2, u_k + K_1/2]$,<br>\n",
    "$K_3 = \\Delta t f[t_k + \\Delta t/2, u_k + K_2/2]$,<br>\n",
    "$K_4 = \\Delta tf[t_k + \\Delta t, u_k + K_3]$<br>\n",
    "Like second order Runge_kutta, we are incorporating more points to get a more accurate approximation.  In the fourth order we are getting even more accurate by using more points on the line to get closer to the exact value."
   ]
  },
  {
   "cell_type": "code",
   "execution_count": 0,
   "metadata": {
    "collapsed": false
   },
   "outputs": [
   ],
   "source": [
   ]
  }
 ],
 "metadata": {
  "kernelspec": {
   "display_name": "Python 3 (Anaconda)",
   "language": "python",
   "name": "anaconda3"
  },
  "language_info": {
   "codemirror_mode": {
    "name": "ipython",
    "version": 3
   },
   "file_extension": ".py",
   "mimetype": "text/x-python",
   "name": "python",
   "nbconvert_exporter": "python",
   "pygments_lexer": "ipython3",
   "version": "3.5.4"
  }
 },
 "nbformat": 4,
 "nbformat_minor": 0
}